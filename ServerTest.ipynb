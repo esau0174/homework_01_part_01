{
 "cells": [
  {
   "cell_type": "code",
   "execution_count": 8,
   "metadata": {},
   "outputs": [
    {
     "name": "stdout",
     "output_type": "stream",
     "text": [
      "Requirement already satisfied: requests in /anaconda3/lib/python3.7/site-packages (2.22.0)\n",
      "Requirement already satisfied: urllib3!=1.25.0,!=1.25.1,<1.26,>=1.21.1 in /anaconda3/lib/python3.7/site-packages (from requests) (1.24.2)\n",
      "Requirement already satisfied: chardet<3.1.0,>=3.0.2 in /anaconda3/lib/python3.7/site-packages (from requests) (3.0.4)\n",
      "Requirement already satisfied: certifi>=2017.4.17 in /anaconda3/lib/python3.7/site-packages (from requests) (2019.6.16)\n",
      "Requirement already satisfied: idna<2.9,>=2.5 in /anaconda3/lib/python3.7/site-packages (from requests) (2.8)\n"
     ]
    }
   ],
   "source": [
    "!pip install requests\n",
    "from requests import post, get"
   ]
  },
  {
   "cell_type": "code",
   "execution_count": 27,
   "metadata": {},
   "outputs": [],
   "source": [
    "import json\n",
    "from requests import post, get\n",
    "\n",
    "def test_server(is_docker: bool=False):\n",
    "    if is_docker:\n",
    "        port = 8000\n",
    "    else:\n",
    "        port = 8001 # When Using Flask Test Server\n",
    "    url = f\"http://0.0.0.0:{port}\"\n",
    "    \n",
    "    # Checking Heartbeat\n",
    "    print(\"Checking Heartbeat from System:\")\n",
    "    print(\"===============================\")\n",
    "    uri = f\"{url}/heartbeat\"\n",
    "    resp = get(uri)\n",
    "    if resp.status_code == 200:\n",
    "        print(resp.json())\n",
    "    else:\n",
    "        print(f\"Returned Status Code: {resp.status_code}\\nError With Server\")\n",
    "        \n",
    "    print(\"Checking Sum from System:\")\n",
    "    print(\"===============================\")\n",
    "    uri = f\"{url}/sum\"\n",
    "    data = {\"x\": 10, \"y\": 12}\n",
    "    jdump = json.dumps(data)\n",
    "    print(jdump)\n",
    "    resp = post(\n",
    "        uri,\n",
    "        json=data\n",
    "    )\n",
    "    \n",
    "    if resp.status_code == 200:\n",
    "        print(resp.json())\n",
    "    else:\n",
    "        print(f\"Returned Status Code: {resp.status_code}\\nError With Server\")\n",
    "    \n",
    "    print(\"Checking Minimum from System:\")\n",
    "    print(\"===============================\")\n",
    "    uri = f\"{url}/minimum\"\n",
    "    data = {'values': [1,5,3,2]}\n",
    "    jdump = json.dumps(data)\n",
    "    print(jdump)\n",
    "    resp = post(\n",
    "        uri,\n",
    "        json=data\n",
    "    )\n",
    "    if resp.status_code == 200:\n",
    "        print(resp.json())\n",
    "    else:\n",
    "        print(f\"Returned Status Code: {resp.status_code}\\nError With Server\")\n",
    "    \n",
    "    \n",
    "    print(\"Checking Product from System:\")\n",
    "    print(\"===============================\")\n",
    "    uri = f\"{url}/product\"\n",
    "    data = {'values': [1,5,3,2]}\n",
    "    jdump = json.dumps(data)\n",
    "    print(jdump)\n",
    "    resp = post(\n",
    "        uri,\n",
    "        json=data\n",
    "    )\n",
    "    if resp.status_code == 200:\n",
    "        print(resp.json())\n",
    "    else:\n",
    "        print(f\"Returned Status Code: {resp.status_code}\\nError With Server\")\n",
    "    \n",
    "    "
   ]
  },
  {
   "cell_type": "code",
   "execution_count": 28,
   "metadata": {
    "scrolled": true
   },
   "outputs": [
    {
     "name": "stdout",
     "output_type": "stream",
     "text": [
      "Checking Heartbeat from System:\n",
      "===============================\n",
      "{'status': True, 'service': 'Yige_Wang_Homework_1', 'datetime': '2019-09-25 19:14:36.457043'}\n",
      "Checking Sum from System:\n",
      "===============================\n",
      "{\"x\": 10, \"y\": 12}\n",
      "{'sum': 22}\n",
      "Checking Minimum from System:\n",
      "===============================\n",
      "{\"values\": [1, 5, 3, 2]}\n",
      "{'minimum': 1}\n",
      "Checking Product from System:\n",
      "===============================\n",
      "{\"values\": [1, 5, 3, 2]}\n",
      "{'product': 30}\n"
     ]
    }
   ],
   "source": [
    "test_server()"
   ]
  },
  {
   "cell_type": "code",
   "execution_count": null,
   "metadata": {},
   "outputs": [],
   "source": []
  },
  {
   "cell_type": "code",
   "execution_count": null,
   "metadata": {},
   "outputs": [],
   "source": []
  }
 ],
 "metadata": {
  "kernelspec": {
   "display_name": "Python 3",
   "language": "python",
   "name": "python3"
  },
  "language_info": {
   "codemirror_mode": {
    "name": "ipython",
    "version": 3
   },
   "file_extension": ".py",
   "mimetype": "text/x-python",
   "name": "python",
   "nbconvert_exporter": "python",
   "pygments_lexer": "ipython3",
   "version": "3.7.3"
  }
 },
 "nbformat": 4,
 "nbformat_minor": 4
}
